{
 "cells": [
  {
   "cell_type": "code",
   "execution_count": null,
   "metadata": {},
   "outputs": [],
   "source": [
    "pip install gensim"
   ]
  },
  {
   "cell_type": "code",
   "execution_count": null,
   "metadata": {},
   "outputs": [],
   "source": [
    "from gensim.models.doc2vec import TaggedDocument\n",
    "\n",
    "# Example list of text documents - replace with your actual data\n",
    "your_texts = [\"This is the first document.\", \"This is the second document.\"] \n",
    "\n",
    "documents = [TaggedDocument(words=doc.split(), tags=[str(i)]) for i, doc in enumerate(your_texts)]\n",
    "print(documents)"
   ]
  },
  {
   "cell_type": "code",
   "execution_count": null,
   "metadata": {},
   "outputs": [],
   "source": [
    "from gensim.models import Doc2Vec\n",
    "\n",
    "model = Doc2Vec(vector_size=100, window=2, min_count=1, workers=4)\n",
    "model.build_vocab(documents)\n",
    "model.train(documents, total_examples=model.corpus_count, epochs=model.epochs)"
   ]
  },
  {
   "cell_type": "code",
   "execution_count": null,
   "metadata": {},
   "outputs": [],
   "source": [
    "import numpy as np\n",
    "\n",
    "# Define the category labels based on your data\n",
    "category_labels = ['0', '1']  # Replace with your actual category labels\n",
    "\n",
    "label_vectors = {}\n",
    "for label in category_labels:\n",
    "    label_docs = [doc for doc in documents if doc.tags[0] == label]\n",
    "    if label_docs:  # Check if any documents match the label\n",
    "        label_vectors[label] = np.mean([model.dv[doc.tags[0]] for doc in label_docs], axis=0)\n",
    "    else:\n",
    "        print(f\"No documents found for label: {label}\")"
   ]
  },
  {
   "cell_type": "code",
   "execution_count": null,
   "metadata": {},
   "outputs": [],
   "source": [
    "from gensim import matutils\n",
    "new_document = \"This is a new document to classify.\"  # Define the new document\n",
    "new_doc_vector = model.infer_vector(new_document.split())\n",
    "\n",
    "# Calculate cosine similarity directly instead of using the 'similarity' method\n",
    "similarities = {label: np.dot(matutils.unitvec(new_doc_vector), matutils.unitvec(label_vector)) \n",
    "               for label, label_vector in label_vectors.items()}\n",
    "\n",
    "predicted_label = max(similarities, key=similarities.get)\n",
    "print(predicted_label)"
   ]
  }
 ],
 "metadata": {
  "kernelspec": {
   "display_name": "SELVA",
   "language": "python",
   "name": "python3"
  },
  "language_info": {
   "codemirror_mode": {
    "name": "ipython",
    "version": 3
   },
   "file_extension": ".py",
   "mimetype": "text/x-python",
   "name": "python",
   "nbconvert_exporter": "python",
   "pygments_lexer": "ipython3",
   "version": "3.12.4"
  }
 },
 "nbformat": 4,
 "nbformat_minor": 2
}
